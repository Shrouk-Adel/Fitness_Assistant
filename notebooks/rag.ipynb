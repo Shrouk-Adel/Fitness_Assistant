{
 "cells": [
  {
   "cell_type": "markdown",
   "id": "cc654e65",
   "metadata": {},
   "source": [
    "### Import Libraries"
   ]
  },
  {
   "cell_type": "code",
   "execution_count": 1,
   "id": "8d5ccf21",
   "metadata": {},
   "outputs": [],
   "source": [
    "import os\n",
    "from dotenv import load_dotenv\n",
    "load_dotenv() \n",
    "\n",
    "from langchain_community.document_loaders import CSVLoader\n",
    "# embedding \n",
    "from langchain.embeddings import OllamaEmbeddings\n",
    "# vector db \n",
    "from langchain_community.vectorstores import Chroma\n",
    "from langchain.prompts import ChatPromptTemplate\n",
    "from operator import itemgetter \n",
    "from langchain_google_genai import ChatGoogleGenerativeAI\n",
    "from langchain_groq import ChatGroq"
   ]
  },
  {
   "cell_type": "code",
   "execution_count": null,
   "id": "b085c792",
   "metadata": {},
   "outputs": [],
   "source": [
    "GEMINI_API_KEY =os.getenv('GEMINI_API_KEY')\n",
    "GROQ_API_KEY= os.getenv('GROQ_API_KEY')"
   ]
  },
  {
   "cell_type": "code",
   "execution_count": 3,
   "id": "f2a97059",
   "metadata": {},
   "outputs": [
    {
     "data": {
      "text/plain": [
       "'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'"
      ]
     },
     "execution_count": 3,
     "metadata": {},
     "output_type": "execute_result"
    }
   ],
   "source": [
    "GROQ_API_KEY"
   ]
  },
  {
   "cell_type": "markdown",
   "id": "89bc0cab",
   "metadata": {},
   "source": [
    "## Load Data"
   ]
  },
  {
   "cell_type": "code",
   "execution_count": 4,
   "id": "5a132f87",
   "metadata": {},
   "outputs": [
    {
     "name": "stdout",
     "output_type": "stream",
     "text": [
      "id: 0\n",
      "exercise_name: Push-Ups\n",
      "type_of_activity: Strength\n",
      "type_of_equipment: Bodyweight\n",
      "body_part: Upper Body\n",
      "type: Push\n",
      "muscle_groups_activated: Pectorals, Triceps, Deltoids\n",
      "instructions: Start in a high plank position with your hands under your shoulders. Lower your body until your chest nearly touches the floor. Push back up to the starting position.\n"
     ]
    }
   ],
   "source": [
    "file_path =r\"..\\Data\\data.csv\"\n",
    "loader =CSVLoader(file_path)\n",
    "fit_docs =loader.load()\n",
    "print(fit_docs[0].page_content)"
   ]
  },
  {
   "cell_type": "code",
   "execution_count": 3,
   "id": "635b153f",
   "metadata": {},
   "outputs": [
    {
     "name": "stderr",
     "output_type": "stream",
     "text": [
      "C:\\Users\\elkhwaga\\AppData\\Local\\Temp\\ipykernel_1604\\3097276066.py:1: LangChainDeprecationWarning: The class `OllamaEmbeddings` was deprecated in LangChain 0.3.1 and will be removed in 1.0.0. An updated version of the class exists in the :class:`~langchain-ollama package and should be used instead. To use it run `pip install -U :class:`~langchain-ollama` and import as `from :class:`~langchain_ollama import OllamaEmbeddings``.\n",
      "  embeddings =OllamaEmbeddings(model ='plutonioumguy/bge-m3')\n"
     ]
    }
   ],
   "source": [
    "embeddings =OllamaEmbeddings(model ='plutonioumguy/bge-m3')\n",
    "# vectore_store =Chroma.from_documents(\n",
    "#     embedding=embeddings,\n",
    "#     persist_directory='./chromadb',\n",
    "#     documents =fit_docs,\n",
    "#     collection_name='fitness_data'\n",
    "# )\n",
    "\n",
    "# # 3. Save the vector store\n",
    "# vectore_store.persist()"
   ]
  },
  {
   "cell_type": "code",
   "execution_count": 4,
   "id": "90253b91",
   "metadata": {},
   "outputs": [
    {
     "name": "stderr",
     "output_type": "stream",
     "text": [
      "C:\\Users\\elkhwaga\\AppData\\Local\\Temp\\ipykernel_1604\\3125965979.py:2: LangChainDeprecationWarning: The class `Chroma` was deprecated in LangChain 0.2.9 and will be removed in 1.0. An updated version of the class exists in the :class:`~langchain-chroma package and should be used instead. To use it run `pip install -U :class:`~langchain-chroma` and import as `from :class:`~langchain_chroma import Chroma``.\n",
      "  vectore_store = Chroma(\n"
     ]
    }
   ],
   "source": [
    "# # loading chromadb from disk later\n",
    "vectore_store = Chroma(\n",
    "    embedding_function=embeddings,\n",
    "    persist_directory='./chromadb',\n",
    "    collection_name='fitness_data'\n",
    ")"
   ]
  },
  {
   "cell_type": "code",
   "execution_count": 5,
   "id": "75a5e551",
   "metadata": {},
   "outputs": [],
   "source": [
    "retriver =vectore_store.as_retriever(search_kwargs={'k':10})"
   ]
  },
  {
   "cell_type": "code",
   "execution_count": 8,
   "id": "61614473",
   "metadata": {},
   "outputs": [
    {
     "name": "stderr",
     "output_type": "stream",
     "text": [
      "C:\\Users\\elkhwaga\\AppData\\Local\\Temp\\ipykernel_14052\\1924855797.py:3: LangChainDeprecationWarning: The method `BaseRetriever.get_relevant_documents` was deprecated in langchain-core 0.1.46 and will be removed in 1.0. Use :meth:`~invoke` instead.\n",
      "  response = retriver.get_relevant_documents(query)\n"
     ]
    },
    {
     "data": {
      "text/plain": [
       "[Document(metadata={'row': 148, 'source': '..\\\\Data\\\\data.csv'}, page_content='id: 148\\nexercise_name: Spider Push-Ups\\ntype_of_activity: Strength\\ntype_of_equipment: Bodyweight\\nbody_part: Upper Body\\ntype: Push\\nmuscle_groups_activated: Pectorals, Triceps, Deltoids, Obliques\\ninstructions: Start in a high plank position. As you lower your body, bring one knee towards your elbow, then push back up and switch sides.'),\n",
       " Document(metadata={'row': 0, 'source': '..\\\\Data\\\\data.csv'}, page_content='id: 0\\nexercise_name: Push-Ups\\ntype_of_activity: Strength\\ntype_of_equipment: Bodyweight\\nbody_part: Upper Body\\ntype: Push\\nmuscle_groups_activated: Pectorals, Triceps, Deltoids\\ninstructions: Start in a high plank position with your hands under your shoulders. Lower your body until your chest nearly touches the floor. Push back up to the starting position.'),\n",
       " Document(metadata={'row': 48, 'source': '..\\\\Data\\\\data.csv'}, page_content='id: 48\\nexercise_name: Incline Push-Ups\\ntype_of_activity: Strength\\ntype_of_equipment: Bodyweight\\nbody_part: Upper Body\\ntype: Push\\nmuscle_groups_activated: Pectorals, Triceps, Deltoids\\ninstructions: Place your hands on an elevated surface like a bench. Lower your chest towards the surface, then push back up.'),\n",
       " Document(metadata={'row': 63, 'source': '..\\\\Data\\\\data.csv'}, page_content='id: 63\\nexercise_name: Decline Push-Ups\\ntype_of_activity: Strength\\ntype_of_equipment: Bodyweight\\nbody_part: Upper Body\\ntype: Push\\nmuscle_groups_activated: Pectorals, Triceps, Deltoids\\ninstructions: Place your feet on an elevated surface, hands on the floor. Lower your chest towards the floor, then push back up.'),\n",
       " Document(metadata={'row': 94, 'source': '..\\\\Data\\\\data.csv'}, page_content='id: 94\\nexercise_name: TRX Push-Ups\\ntype_of_activity: Strength\\ntype_of_equipment: TRX\\nbody_part: Upper Body\\ntype: Push\\nmuscle_groups_activated: Pectorals, Triceps, Deltoids\\ninstructions: Perform push-ups with your hands in the TRX handles, keeping your body straight.'),\n",
       " Document(metadata={'row': 12, 'source': '..\\\\Data\\\\data.csv'}, page_content='id: 12\\nexercise_name: Pull-Ups\\ntype_of_activity: Strength\\ntype_of_equipment: Bodyweight\\nbody_part: Upper Body\\ntype: Pull\\nmuscle_groups_activated: Latissimus Dorsi, Biceps\\ninstructions: Grasp a pull-up bar with an overhand grip. Pull your body up until your chin is above the bar, then lower back down.'),\n",
       " Document(metadata={'row': 119, 'source': '..\\\\Data\\\\data.csv'}, page_content='id: 119\\nexercise_name: One-Arm Push-Up\\ntype_of_activity: Strength\\ntype_of_equipment: Bodyweight\\nbody_part: Upper Body\\ntype: Push\\nmuscle_groups_activated: Pectorals, Triceps, Deltoids\\ninstructions: Start in a push-up position with one hand behind your back. Lower your body until your chest nearly touches the floor, then push back up.'),\n",
       " Document(metadata={'row': 87, 'source': '..\\\\Data\\\\data.csv'}, page_content='id: 87\\nexercise_name: Chin-Ups\\ntype_of_activity: Strength\\ntype_of_equipment: Bodyweight\\nbody_part: Upper Body\\ntype: Pull\\nmuscle_groups_activated: Latissimus Dorsi, Biceps\\ninstructions: Grip a pull-up bar with an underhand grip. Pull your body up until your chin is above the bar, then lower back down.'),\n",
       " Document(metadata={'row': 34, 'source': '..\\\\Data\\\\data.csv'}, page_content='id: 34\\nexercise_name: Push Press\\ntype_of_activity: Strength\\ntype_of_equipment: Barbell\\nbody_part: Upper Body\\ntype: Push\\nmuscle_groups_activated: Deltoids, Triceps\\ninstructions: Hold a barbell at shoulder height. Use your legs to help press the bar overhead, then lower it back to the starting position.'),\n",
       " Document(metadata={'row': 189, 'source': '..\\\\Data\\\\data.csv'}, page_content='id: 189\\nexercise_name: Pike Push-Up\\ntype_of_activity: Strength\\ntype_of_equipment: Bodyweight\\nbody_part: Upper Body\\ntype: Push\\nmuscle_groups_activated: Deltoids, Triceps\\ninstructions: Start in a downward dog position with your hips raised. Lower your head towards the floor, then push back up.')]"
      ]
     },
     "execution_count": 8,
     "metadata": {},
     "output_type": "execute_result"
    }
   ],
   "source": [
    "# rag from documents\n",
    "query = \"Which muscles do push-ups work?\"\n",
    "response = retriver.get_relevant_documents(query)\n",
    "response"
   ]
  },
  {
   "cell_type": "markdown",
   "id": "e6bb71d5",
   "metadata": {},
   "source": [
    "### RAG Flow"
   ]
  },
  {
   "cell_type": "code",
   "execution_count": 6,
   "id": "0072557e",
   "metadata": {},
   "outputs": [],
   "source": [
    "# llm =ChatGoogleGenerativeAI(\n",
    "#     model ='models/gemini-2.0-flash-lite',\n",
    "#     temperature=0.4,\n",
    "#     google_api_key=GOOGLE_API_KEY \n",
    "# )\n",
    "\n",
    "lama_llm =ChatGroq(\n",
    "    model ='llama3-8b-8192',\n",
    "    temperature=0.3,\n",
    "    groq_api_key =GROQ_API_KEY\n",
    ")\n",
    "\n",
    "prompt_template ='\\n'.join([\n",
    "    \"you are a fitness instructor\",\n",
    "    \"answer the question based on the given context about exercises\",\n",
    "    \"use only the facts from the context,when answering the question\",\n",
    "    \"reply with a structured way,\",\n",
    "    \"you must no reply with id number in your result\",\n",
    "    \"your reply must have short detials\",\n",
    "    \"Question:{question}\",\n",
    "    \"context:{context}\"\n",
    "])\n",
    "\n",
    "prompt =ChatPromptTemplate.from_template(prompt_template)\n",
    "\n",
    "# rag chain \n",
    "fitness_chain= (\n",
    "    {\"question\":itemgetter('question'),\n",
    "     \"context\":lambda x:retriver.invoke(x['question'])}\n",
    "    |prompt\n",
    "    |lama_llm\n",
    ")\n"
   ]
  },
  {
   "cell_type": "code",
   "execution_count": null,
   "id": "6421f870",
   "metadata": {},
   "outputs": [
    {
     "name": "stdout",
     "output_type": "stream",
     "text": [
      "The exercises that target the core muscles are:\n",
      "\n",
      "* Mountain Climbers: This exercise targets the Rectus Abdominis and Hip Flexors.\n",
      "* Reverse Crunch: This exercise targets the Rectus Abdominis and Hip Flexors.\n",
      "* Toe Touches: This exercise targets the Rectus Abdominis and Obliques.\n",
      "* Ab Wheel Rollout: This exercise targets the Rectus Abdominis and Hip Flexors.\n",
      "\n",
      "These exercises engage the core muscles, including the rectus abdominis, hip flexors, and obliques, to improve overall core strength and stability.\n"
     ]
    }
   ],
   "source": [
    "response = fitness_chain.invoke({\"question\": \"Which exercise targets the core muscles?\"})\n",
    "print(response.content)  \n",
    "print(response)"
   ]
  },
  {
   "cell_type": "markdown",
   "id": "94137f8e",
   "metadata": {},
   "source": [
    "### RAG Evaluation \n",
    "__LLM As a Judge__"
   ]
  },
  {
   "cell_type": "code",
   "execution_count": 7,
   "id": "3b6d49f5",
   "metadata": {},
   "outputs": [
    {
     "data": {
      "text/html": [
       "<div>\n",
       "<style scoped>\n",
       "    .dataframe tbody tr th:only-of-type {\n",
       "        vertical-align: middle;\n",
       "    }\n",
       "\n",
       "    .dataframe tbody tr th {\n",
       "        vertical-align: top;\n",
       "    }\n",
       "\n",
       "    .dataframe thead th {\n",
       "        text-align: right;\n",
       "    }\n",
       "</style>\n",
       "<table border=\"1\" class=\"dataframe\">\n",
       "  <thead>\n",
       "    <tr style=\"text-align: right;\">\n",
       "      <th></th>\n",
       "      <th>id</th>\n",
       "      <th>question</th>\n",
       "    </tr>\n",
       "  </thead>\n",
       "  <tbody>\n",
       "    <tr>\n",
       "      <th>0</th>\n",
       "      <td>0</td>\n",
       "      <td>What is the starting position for doing push-ups?</td>\n",
       "    </tr>\n",
       "    <tr>\n",
       "      <th>1</th>\n",
       "      <td>0</td>\n",
       "      <td>Which muscle groups are activated during push-...</td>\n",
       "    </tr>\n",
       "    <tr>\n",
       "      <th>2</th>\n",
       "      <td>0</td>\n",
       "      <td>How do you know when to push back up while doi...</td>\n",
       "    </tr>\n",
       "    <tr>\n",
       "      <th>3</th>\n",
       "      <td>0</td>\n",
       "      <td>Do you need any equipment to perform push-ups?</td>\n",
       "    </tr>\n",
       "    <tr>\n",
       "      <th>4</th>\n",
       "      <td>0</td>\n",
       "      <td>What part of the body do push-ups primarily ta...</td>\n",
       "    </tr>\n",
       "  </tbody>\n",
       "</table>\n",
       "</div>"
      ],
      "text/plain": [
       "   id                                           question\n",
       "0   0  What is the starting position for doing push-ups?\n",
       "1   0  Which muscle groups are activated during push-...\n",
       "2   0  How do you know when to push back up while doi...\n",
       "3   0     Do you need any equipment to perform push-ups?\n",
       "4   0  What part of the body do push-ups primarily ta..."
      ]
     },
     "execution_count": 7,
     "metadata": {},
     "output_type": "execute_result"
    }
   ],
   "source": [
    "import pandas as pd\n",
    "df_question =pd.read_csv('../Data/ground-truth-retrieval.csv')\n",
    "df_question.head()"
   ]
  },
  {
   "cell_type": "code",
   "execution_count": 8,
   "id": "e7d84286",
   "metadata": {},
   "outputs": [
    {
     "data": {
      "text/plain": [
       "{'id': 0, 'question': 'What is the starting position for doing push-ups?'}"
      ]
     },
     "execution_count": 8,
     "metadata": {},
     "output_type": "execute_result"
    }
   ],
   "source": [
    "ground_truth =df_question.to_dict(orient='records')\n",
    "ground_truth[0]"
   ]
  },
  {
   "cell_type": "code",
   "execution_count": null,
   "id": "e21eaa37",
   "metadata": {},
   "outputs": [],
   "source": [
    "llm_Judge=ChatGoogleGenerativeAI(\n",
    "    model ='models/gemini-2.0-flash',\n",
    "    temperature=0.2,\n",
    "    google_api_key=GEMINI_API_KEY \n",
    ")\n",
    "\n",
    "Judge_template = \"\"\"\n",
    "You are an expert evaluator for a RAG system.\n",
    "Your task is to analyze the relevance of the generated answer to the given question.\n",
    "Based on the relevance of the generated answer, you will classify it\n",
    "as \"NON_RELEVANT\", \"PARTLY_RELEVANT\", or \"RELEVANT\".\n",
    "\n",
    "Here is the data for evaluation:\n",
    "\n",
    "Question: {question}\n",
    "Generated Answer: {answer_llm}\n",
    "\n",
    "Please analyze the content and context of the generated answer in relation to the question\n",
    "and provide your evaluation in parsable JSON without using code blocks:\n",
    "\n",
    "{{\n",
    "  \"Relevance\": \"NON_RELEVANT\" | \"PARTLY_RELEVANT\" | \"RELEVANT\",\n",
    "  \"Explanation\": \"[Provide a brief explanation for your evaluation]\"\n",
    "}}\n",
    "\"\"\".strip()"
   ]
  },
  {
   "cell_type": "code",
   "execution_count": 10,
   "id": "d6e84ec1",
   "metadata": {},
   "outputs": [],
   "source": [
    "Judge_prompt =ChatPromptTemplate.from_template(Judge_template)\n",
    "\n",
    "Judge_chain=(\n",
    "    Judge_prompt\n",
    "    |llm_Judge\n",
    ")"
   ]
  },
  {
   "cell_type": "code",
   "execution_count": null,
   "id": "d79a9a25",
   "metadata": {},
   "outputs": [],
   "source": [
    "first_recored =ground_truth[0]\n",
    "answer_llm =fitness_chain.invoke({'question':first_recored['question']})\n",
    "# print(answer_llm)\n",
    "response =Judge_chain.invoke({\n",
    "                'question':first_recored['question'],\n",
    "                'answer_llm':answer_llm.content\n",
    "                })\n",
    "\n",
    "print(response.content)\n"
   ]
  },
  {
   "cell_type": "code",
   "execution_count": 52,
   "id": "771d5156",
   "metadata": {},
   "outputs": [
    {
     "data": {
      "text/plain": [
       "str"
      ]
     },
     "execution_count": 52,
     "metadata": {},
     "output_type": "execute_result"
    }
   ],
   "source": [
    "type(response.content)"
   ]
  },
  {
   "cell_type": "code",
   "execution_count": 53,
   "id": "3712451f",
   "metadata": {},
   "outputs": [],
   "source": [
    "df_sample = df_question.sample(n=100, random_state=1)"
   ]
  },
  {
   "cell_type": "code",
   "execution_count": 54,
   "id": "10442527",
   "metadata": {},
   "outputs": [],
   "source": [
    "sample = df_sample.to_dict(orient='records')"
   ]
  },
  {
   "cell_type": "code",
   "execution_count": null,
   "id": "942a9028",
   "metadata": {},
   "outputs": [],
   "source": [
    "from tqdm.auto import tqdm\n",
    "import json\n",
    "import time\n",
    "from json_repair import repair_json \n",
    "\n",
    "evaluations = []\n",
    "for record in tqdm(sample):\n",
    "    question = record['question']\n",
    "    answer_llm = answer_llm =fitness_chain.invoke({'question':question}).content\n",
    "\n",
    "    response =Judge_chain.invoke({\n",
    "                'question':question,\n",
    "                'answer_llm':answer_llm\n",
    "                }).content\n",
    "    print(response)\n",
    "    time.sleep(2)\n",
    "    res_str =repair_json(response)\n",
    "    evaluation = json.loads(res_str)\n",
    "    evaluations.append((record, answer_llm, evaluation))"
   ]
  },
  {
   "cell_type": "code",
   "execution_count": 57,
   "id": "af6ecf53",
   "metadata": {},
   "outputs": [
    {
     "data": {
      "text/plain": [
       "({'id': 171,\n",
       "  'question': 'What is the primary muscle group activated during the Banded Pull-Up?'},\n",
       " 'The primary muscle group activated during the Banded Pull-Up is the Latissimus Dorsi and Biceps.',\n",
       " {'Relevance': 'RELEVANT',\n",
       "  'Explanation': 'The answer correctly identifies the primary muscle groups activated during a banded pull-up, which are the Latissimus Dorsi and Biceps. Therefore, the answer is relevant to the question.'})"
      ]
     },
     "execution_count": 57,
     "metadata": {},
     "output_type": "execute_result"
    }
   ],
   "source": [
    "evaluations[0]"
   ]
  },
  {
   "cell_type": "code",
   "execution_count": 66,
   "id": "bf155efd",
   "metadata": {},
   "outputs": [
    {
     "data": {
      "text/html": [
       "<div>\n",
       "<style scoped>\n",
       "    .dataframe tbody tr th:only-of-type {\n",
       "        vertical-align: middle;\n",
       "    }\n",
       "\n",
       "    .dataframe tbody tr th {\n",
       "        vertical-align: top;\n",
       "    }\n",
       "\n",
       "    .dataframe thead th {\n",
       "        text-align: right;\n",
       "    }\n",
       "</style>\n",
       "<table border=\"1\" class=\"dataframe\">\n",
       "  <thead>\n",
       "    <tr style=\"text-align: right;\">\n",
       "      <th></th>\n",
       "      <th>record</th>\n",
       "      <th>answer</th>\n",
       "      <th>evaluation</th>\n",
       "    </tr>\n",
       "  </thead>\n",
       "  <tbody>\n",
       "    <tr>\n",
       "      <th>0</th>\n",
       "      <td>{'id': 171, 'question': 'What is the primary m...</td>\n",
       "      <td>The primary muscle group activated during the ...</td>\n",
       "      <td>{'Relevance': 'RELEVANT', 'Explanation': 'The ...</td>\n",
       "    </tr>\n",
       "    <tr>\n",
       "      <th>1</th>\n",
       "      <td>{'id': 115, 'question': 'Can jumping squats be...</td>\n",
       "      <td>Jumping squats can be performed without any eq...</td>\n",
       "      <td>{'Relevance': 'RELEVANT', 'Explanation': 'The ...</td>\n",
       "    </tr>\n",
       "    <tr>\n",
       "      <th>2</th>\n",
       "      <td>{'id': 53, 'question': 'Can you explain the pr...</td>\n",
       "      <td>To execute a Dumbbell Lateral Raise, follow th...</td>\n",
       "      <td>{'Relevance': 'PARTLY_RELEVANT', 'Explanation'...</td>\n",
       "    </tr>\n",
       "    <tr>\n",
       "      <th>3</th>\n",
       "      <td>{'id': 198, 'question': 'How do I ensure my ar...</td>\n",
       "      <td>To ensure your arms are fully extended during ...</td>\n",
       "      <td>{'Relevance': 'RELEVANT', 'Explanation': 'The ...</td>\n",
       "    </tr>\n",
       "    <tr>\n",
       "      <th>4</th>\n",
       "      <td>{'id': 19, 'question': 'What part of the body ...</td>\n",
       "      <td>The exercise \"Goblet Squats\" primarily engages...</td>\n",
       "      <td>{'Relevance': 'RELEVANT', 'Explanation': 'The ...</td>\n",
       "    </tr>\n",
       "  </tbody>\n",
       "</table>\n",
       "</div>"
      ],
      "text/plain": [
       "                                              record  \\\n",
       "0  {'id': 171, 'question': 'What is the primary m...   \n",
       "1  {'id': 115, 'question': 'Can jumping squats be...   \n",
       "2  {'id': 53, 'question': 'Can you explain the pr...   \n",
       "3  {'id': 198, 'question': 'How do I ensure my ar...   \n",
       "4  {'id': 19, 'question': 'What part of the body ...   \n",
       "\n",
       "                                              answer  \\\n",
       "0  The primary muscle group activated during the ...   \n",
       "1  Jumping squats can be performed without any eq...   \n",
       "2  To execute a Dumbbell Lateral Raise, follow th...   \n",
       "3  To ensure your arms are fully extended during ...   \n",
       "4  The exercise \"Goblet Squats\" primarily engages...   \n",
       "\n",
       "                                          evaluation  \n",
       "0  {'Relevance': 'RELEVANT', 'Explanation': 'The ...  \n",
       "1  {'Relevance': 'RELEVANT', 'Explanation': 'The ...  \n",
       "2  {'Relevance': 'PARTLY_RELEVANT', 'Explanation'...  \n",
       "3  {'Relevance': 'RELEVANT', 'Explanation': 'The ...  \n",
       "4  {'Relevance': 'RELEVANT', 'Explanation': 'The ...  "
      ]
     },
     "execution_count": 66,
     "metadata": {},
     "output_type": "execute_result"
    }
   ],
   "source": [
    "df_eval_ =pd.DataFrame(evaluations,columns=['record','answer','evaluation'])\n",
    "df_eval_.head()"
   ]
  },
  {
   "cell_type": "code",
   "execution_count": 67,
   "id": "18852011",
   "metadata": {},
   "outputs": [],
   "source": [
    "df_eval_['id'] = df_eval_.record.apply(lambda d: d['id'])\n",
    "df_eval_['question'] = df_eval_.record.apply(lambda d: d['question'])\n",
    "\n",
    "df_eval_['relevance'] = df_eval_.evaluation.apply(lambda d: d['Relevance'])\n",
    "df_eval_['explanation'] = df_eval_.evaluation.apply(lambda d: d['Explanation'])\n",
    "\n",
    "del df_eval_['record']\n",
    "del df_eval_['evaluation']"
   ]
  },
  {
   "cell_type": "code",
   "execution_count": 68,
   "id": "23f864b0",
   "metadata": {},
   "outputs": [
    {
     "data": {
      "text/html": [
       "<div>\n",
       "<style scoped>\n",
       "    .dataframe tbody tr th:only-of-type {\n",
       "        vertical-align: middle;\n",
       "    }\n",
       "\n",
       "    .dataframe tbody tr th {\n",
       "        vertical-align: top;\n",
       "    }\n",
       "\n",
       "    .dataframe thead th {\n",
       "        text-align: right;\n",
       "    }\n",
       "</style>\n",
       "<table border=\"1\" class=\"dataframe\">\n",
       "  <thead>\n",
       "    <tr style=\"text-align: right;\">\n",
       "      <th></th>\n",
       "      <th>answer</th>\n",
       "      <th>id</th>\n",
       "      <th>question</th>\n",
       "      <th>relevance</th>\n",
       "      <th>explanation</th>\n",
       "    </tr>\n",
       "  </thead>\n",
       "  <tbody>\n",
       "    <tr>\n",
       "      <th>0</th>\n",
       "      <td>The primary muscle group activated during the ...</td>\n",
       "      <td>171</td>\n",
       "      <td>What is the primary muscle group activated dur...</td>\n",
       "      <td>RELEVANT</td>\n",
       "      <td>The answer correctly identifies the primary mu...</td>\n",
       "    </tr>\n",
       "    <tr>\n",
       "      <th>1</th>\n",
       "      <td>Jumping squats can be performed without any eq...</td>\n",
       "      <td>115</td>\n",
       "      <td>Can jumping squats be performed without any eq...</td>\n",
       "      <td>RELEVANT</td>\n",
       "      <td>The answer directly and accurately answers the...</td>\n",
       "    </tr>\n",
       "    <tr>\n",
       "      <th>2</th>\n",
       "      <td>To execute a Dumbbell Lateral Raise, follow th...</td>\n",
       "      <td>53</td>\n",
       "      <td>Can you explain the proper technique for execu...</td>\n",
       "      <td>PARTLY_RELEVANT</td>\n",
       "      <td>The answer provides a basic description of the...</td>\n",
       "    </tr>\n",
       "    <tr>\n",
       "      <th>3</th>\n",
       "      <td>To ensure your arms are fully extended during ...</td>\n",
       "      <td>198</td>\n",
       "      <td>How do I ensure my arms are fully extended dur...</td>\n",
       "      <td>RELEVANT</td>\n",
       "      <td>The answer directly addresses the question of ...</td>\n",
       "    </tr>\n",
       "    <tr>\n",
       "      <th>4</th>\n",
       "      <td>The exercise \"Goblet Squats\" primarily engages...</td>\n",
       "      <td>19</td>\n",
       "      <td>What part of the body is primarily engaged in ...</td>\n",
       "      <td>RELEVANT</td>\n",
       "      <td>The answer directly addresses the question by ...</td>\n",
       "    </tr>\n",
       "  </tbody>\n",
       "</table>\n",
       "</div>"
      ],
      "text/plain": [
       "                                              answer   id  \\\n",
       "0  The primary muscle group activated during the ...  171   \n",
       "1  Jumping squats can be performed without any eq...  115   \n",
       "2  To execute a Dumbbell Lateral Raise, follow th...   53   \n",
       "3  To ensure your arms are fully extended during ...  198   \n",
       "4  The exercise \"Goblet Squats\" primarily engages...   19   \n",
       "\n",
       "                                            question        relevance  \\\n",
       "0  What is the primary muscle group activated dur...         RELEVANT   \n",
       "1  Can jumping squats be performed without any eq...         RELEVANT   \n",
       "2  Can you explain the proper technique for execu...  PARTLY_RELEVANT   \n",
       "3  How do I ensure my arms are fully extended dur...         RELEVANT   \n",
       "4  What part of the body is primarily engaged in ...         RELEVANT   \n",
       "\n",
       "                                         explanation  \n",
       "0  The answer correctly identifies the primary mu...  \n",
       "1  The answer directly and accurately answers the...  \n",
       "2  The answer provides a basic description of the...  \n",
       "3  The answer directly addresses the question of ...  \n",
       "4  The answer directly addresses the question by ...  "
      ]
     },
     "execution_count": 68,
     "metadata": {},
     "output_type": "execute_result"
    }
   ],
   "source": [
    "df_eval_.head()"
   ]
  },
  {
   "cell_type": "code",
   "execution_count": 69,
   "id": "ee14cbb7",
   "metadata": {},
   "outputs": [
    {
     "data": {
      "text/plain": [
       "relevance\n",
       "RELEVANT           73\n",
       "PARTLY_RELEVANT    25\n",
       "NON_RELEVANT        2\n",
       "Name: count, dtype: int64"
      ]
     },
     "execution_count": 69,
     "metadata": {},
     "output_type": "execute_result"
    }
   ],
   "source": [
    "df_eval_.relevance.value_counts()"
   ]
  },
  {
   "cell_type": "code",
   "execution_count": 71,
   "id": "7efac363",
   "metadata": {},
   "outputs": [],
   "source": [
    "df_eval_.to_csv('../Data/RAG_Evaluation_Result.csv',index=False)"
   ]
  }
 ],
 "metadata": {
  "kernelspec": {
   "display_name": "fit",
   "language": "python",
   "name": "python3"
  },
  "language_info": {
   "codemirror_mode": {
    "name": "ipython",
    "version": 3
   },
   "file_extension": ".py",
   "mimetype": "text/x-python",
   "name": "python",
   "nbconvert_exporter": "python",
   "pygments_lexer": "ipython3",
   "version": "3.12.5"
  }
 },
 "nbformat": 4,
 "nbformat_minor": 5
}
