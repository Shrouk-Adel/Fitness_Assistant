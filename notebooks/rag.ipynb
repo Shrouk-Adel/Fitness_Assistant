{
 "cells": [
  {
   "cell_type": "markdown",
   "id": "cc654e65",
   "metadata": {},
   "source": [
    "### Import Libraries"
   ]
  },
  {
   "cell_type": "code",
   "execution_count": 1,
   "id": "8d5ccf21",
   "metadata": {},
   "outputs": [],
   "source": [
    "import os\n",
    "from dotenv import load_dotenv\n",
    "load_dotenv() \n",
    "\n",
    "from langchain_community.document_loaders import CSVLoader\n",
    "# embedding \n",
    "from langchain.embeddings import OllamaEmbeddings\n",
    "# vector db \n",
    "from langchain_community.vectorstores import Chroma\n",
    "from langchain.prompts import ChatPromptTemplate\n",
    "from operator import itemgetter \n",
    "from langchain_google_genai import ChatGoogleGenerativeAI"
   ]
  },
  {
   "cell_type": "markdown",
   "id": "89bc0cab",
   "metadata": {},
   "source": [
    "## Load Data"
   ]
  },
  {
   "cell_type": "code",
   "execution_count": 2,
   "id": "9dabdac4",
   "metadata": {},
   "outputs": [],
   "source": [
    "GOOGLE_API_KEY =os.getenv('Gemini_key')"
   ]
  },
  {
   "cell_type": "code",
   "execution_count": 3,
   "id": "5a132f87",
   "metadata": {},
   "outputs": [
    {
     "name": "stdout",
     "output_type": "stream",
     "text": [
      "id: 0\n",
      "exercise_name: Push-Ups\n",
      "type_of_activity: Strength\n",
      "type_of_equipment: Bodyweight\n",
      "body_part: Upper Body\n",
      "type: Push\n",
      "muscle_groups_activated: Pectorals, Triceps, Deltoids\n",
      "instructions: Start in a high plank position with your hands under your shoulders. Lower your body until your chest nearly touches the floor. Push back up to the starting position.\n"
     ]
    }
   ],
   "source": [
    "file_path =r\"..\\Data\\data.csv\"\n",
    "loader =CSVLoader(file_path)\n",
    "fit_docs =loader.load()\n",
    "print(fit_docs[0].page_content)"
   ]
  },
  {
   "cell_type": "code",
   "execution_count": 4,
   "id": "635b153f",
   "metadata": {},
   "outputs": [
    {
     "name": "stderr",
     "output_type": "stream",
     "text": [
      "C:\\Users\\elkhwaga\\AppData\\Local\\Temp\\ipykernel_14716\\4260143146.py:1: LangChainDeprecationWarning: The class `OllamaEmbeddings` was deprecated in LangChain 0.3.1 and will be removed in 1.0.0. An updated version of the class exists in the :class:`~langchain-ollama package and should be used instead. To use it run `pip install -U :class:`~langchain-ollama` and import as `from :class:`~langchain_ollama import OllamaEmbeddings``.\n",
      "  embeddings =OllamaEmbeddings(model ='plutonioumguy/bge-m3')\n"
     ]
    }
   ],
   "source": [
    "embeddings =OllamaEmbeddings(model ='plutonioumguy/bge-m3')\n",
    "# vectore_store =Chroma.from_documents(\n",
    "#     embedding=embeddings,\n",
    "#     persist_directory='./chromadb',\n",
    "#     documents =fit_docs\n",
    "# )\n",
    "\n",
    "# # 3. Save the vector store\n",
    "# vectore_store.persist()"
   ]
  },
  {
   "cell_type": "code",
   "execution_count": 5,
   "id": "90253b91",
   "metadata": {},
   "outputs": [
    {
     "name": "stderr",
     "output_type": "stream",
     "text": [
      "C:\\Users\\elkhwaga\\AppData\\Local\\Temp\\ipykernel_14716\\2351679744.py:2: LangChainDeprecationWarning: The class `Chroma` was deprecated in LangChain 0.2.9 and will be removed in 1.0. An updated version of the class exists in the :class:`~langchain-chroma package and should be used instead. To use it run `pip install -U :class:`~langchain-chroma` and import as `from :class:`~langchain_chroma import Chroma``.\n",
      "  vectore_store = Chroma(\n"
     ]
    }
   ],
   "source": [
    "# loading chromadb from disk later\n",
    "vectore_store = Chroma(\n",
    "    embedding_function=embeddings,\n",
    "    persist_directory='./chromadb'\n",
    ")"
   ]
  },
  {
   "cell_type": "code",
   "execution_count": 50,
   "id": "75a5e551",
   "metadata": {},
   "outputs": [],
   "source": [
    "retriver =vectore_store.as_retriever(search_kwargs={'k':5})"
   ]
  },
  {
   "cell_type": "code",
   "execution_count": null,
   "id": "61614473",
   "metadata": {},
   "outputs": [],
   "source": [
    "# rag from documents\n",
    "query = \"Which muscles do push-ups work?\"\n",
    "response = retriver.get_relevant_documents(query)\n",
    "response"
   ]
  },
  {
   "cell_type": "markdown",
   "id": "e6bb71d5",
   "metadata": {},
   "source": [
    "### RAG Flow"
   ]
  },
  {
   "cell_type": "code",
   "execution_count": 80,
   "id": "0072557e",
   "metadata": {},
   "outputs": [],
   "source": [
    "llm =ChatGoogleGenerativeAI(\n",
    "    model ='models/gemini-2.0-flash-lite',\n",
    "    temperature=0.4,\n",
    "    google_api_key=GOOGLE_API_KEY \n",
    ")\n",
    "\n",
    "prompt_template ='\\n'.join([\n",
    "    \"you are a fitness instructor\",\n",
    "    \"answer the question based on the given context about exercises\",\n",
    "    \"use only the facts from the context,when answering the question\",\n",
    "    \"reply with a structured way\"\n",
    "    \"Question:{question}\",\n",
    "    \"context:{context}\"\n",
    "])\n",
    "\n",
    "prompt =ChatPromptTemplate.from_template(prompt_template)\n",
    "\n",
    "# rag chain \n",
    "fitness_chain= (\n",
    "    {\"question\":itemgetter('question'),\n",
    "     \"context\":lambda x:retriver.invoke(x['question'])}\n",
    "    |prompt\n",
    "    |llm\n",
    ")\n"
   ]
  },
  {
   "cell_type": "code",
   "execution_count": 81,
   "id": "6421f870",
   "metadata": {},
   "outputs": [
    {
     "name": "stdout",
     "output_type": "stream",
     "text": [
      "The following exercises target the core muscles:\n",
      "\n",
      "*   Mountain Climbers\n",
      "*   Burpees\n",
      "*   Reverse Crunch\n",
      "*   Renegade Rows\n",
      "*   Toe Touches\n"
     ]
    }
   ],
   "source": [
    "response = fitness_chain.invoke({\"question\": \"Which exercise targets the core muscles?\"})\n",
    "print(response.content)  "
   ]
  },
  {
   "cell_type": "markdown",
   "id": "94137f8e",
   "metadata": {},
   "source": [
    "### RAG Evaluation \n",
    "__LLM As a Judge__"
   ]
  },
  {
   "cell_type": "code",
   "execution_count": 8,
   "id": "3b6d49f5",
   "metadata": {},
   "outputs": [
    {
     "data": {
      "text/html": [
       "<div>\n",
       "<style scoped>\n",
       "    .dataframe tbody tr th:only-of-type {\n",
       "        vertical-align: middle;\n",
       "    }\n",
       "\n",
       "    .dataframe tbody tr th {\n",
       "        vertical-align: top;\n",
       "    }\n",
       "\n",
       "    .dataframe thead th {\n",
       "        text-align: right;\n",
       "    }\n",
       "</style>\n",
       "<table border=\"1\" class=\"dataframe\">\n",
       "  <thead>\n",
       "    <tr style=\"text-align: right;\">\n",
       "      <th></th>\n",
       "      <th>id</th>\n",
       "      <th>question</th>\n",
       "    </tr>\n",
       "  </thead>\n",
       "  <tbody>\n",
       "    <tr>\n",
       "      <th>0</th>\n",
       "      <td>0</td>\n",
       "      <td>What is the starting position for doing push-ups?</td>\n",
       "    </tr>\n",
       "    <tr>\n",
       "      <th>1</th>\n",
       "      <td>0</td>\n",
       "      <td>Which muscle groups are activated during push-...</td>\n",
       "    </tr>\n",
       "    <tr>\n",
       "      <th>2</th>\n",
       "      <td>0</td>\n",
       "      <td>How do you know when to push back up while doi...</td>\n",
       "    </tr>\n",
       "    <tr>\n",
       "      <th>3</th>\n",
       "      <td>0</td>\n",
       "      <td>Do you need any equipment to perform push-ups?</td>\n",
       "    </tr>\n",
       "    <tr>\n",
       "      <th>4</th>\n",
       "      <td>0</td>\n",
       "      <td>What part of the body do push-ups primarily ta...</td>\n",
       "    </tr>\n",
       "  </tbody>\n",
       "</table>\n",
       "</div>"
      ],
      "text/plain": [
       "   id                                           question\n",
       "0   0  What is the starting position for doing push-ups?\n",
       "1   0  Which muscle groups are activated during push-...\n",
       "2   0  How do you know when to push back up while doi...\n",
       "3   0     Do you need any equipment to perform push-ups?\n",
       "4   0  What part of the body do push-ups primarily ta..."
      ]
     },
     "execution_count": 8,
     "metadata": {},
     "output_type": "execute_result"
    }
   ],
   "source": [
    "import pandas as pd\n",
    "df_question =pd.read_csv('../Data/ground-truth-retrieval.csv')\n",
    "df_question.head()"
   ]
  },
  {
   "cell_type": "code",
   "execution_count": 9,
   "id": "e7d84286",
   "metadata": {},
   "outputs": [
    {
     "data": {
      "text/plain": [
       "{'id': 0, 'question': 'What is the starting position for doing push-ups?'}"
      ]
     },
     "execution_count": 9,
     "metadata": {},
     "output_type": "execute_result"
    }
   ],
   "source": [
    "ground_truth =df_question.to_dict(orient='records')\n",
    "ground_truth[0]"
   ]
  },
  {
   "cell_type": "code",
   "execution_count": 60,
   "id": "e21eaa37",
   "metadata": {},
   "outputs": [],
   "source": [
    "llm_Judge=ChatGoogleGenerativeAI(\n",
    "    model ='models/gemini-1.5-flash',\n",
    "    temperature=0.2,\n",
    "    google_api_key=GOOGLE_API_KEY \n",
    ")\n",
    "\n",
    "Judge_template = \"\"\"\n",
    "You are an expert evaluator for a RAG system.\n",
    "Your task is to analyze the relevance of the generated answer to the given question.\n",
    "Based on the relevance of the generated answer, you will classify it\n",
    "as \"NON_RELEVANT\", \"PARTLY_RELEVANT\", or \"RELEVANT\".\n",
    "\n",
    "Here is the data for evaluation:\n",
    "\n",
    "Question: {question}\n",
    "Generated Answer: {answer_llm}\n",
    "\n",
    "Please analyze the content and context of the generated answer in relation to the question\n",
    "and provide your evaluation in parsable JSON without using code blocks:\n",
    "\n",
    "{{\n",
    "  \"Relevance\": \"NON_RELEVANT\" | \"PARTLY_RELEVANT\" | \"RELEVANT\",\n",
    "  \"Explanation\": \"[Provide a brief explanation for your evaluation]\"\n",
    "}}\n",
    "\"\"\".strip()"
   ]
  },
  {
   "cell_type": "code",
   "execution_count": 61,
   "id": "d6e84ec1",
   "metadata": {},
   "outputs": [],
   "source": [
    "Judge_prompt =ChatPromptTemplate.from_template(Judge_template)\n",
    "\n",
    "Judge_chain=(\n",
    "    Judge_prompt\n",
    "    |llm_Judge\n",
    ")"
   ]
  },
  {
   "cell_type": "code",
   "execution_count": 62,
   "id": "d79a9a25",
   "metadata": {},
   "outputs": [
    {
     "name": "stdout",
     "output_type": "stream",
     "text": [
      "{\n",
      "  \"Relevance\": \"RELEVANT\",\n",
      "  \"Explanation\": \"The answer directly and accurately addresses the question by clearly stating the starting position for push-ups.  It's concise and provides the necessary information.\"\n",
      "}\n"
     ]
    }
   ],
   "source": [
    "first_recored =ground_truth[0]\n",
    "answer_llm =fitness_chain.invoke({'question':first_recored['question']})\n",
    "# print(answer_llm)\n",
    "response =Judge_chain.invoke({\n",
    "                'question':first_recored['question'],\n",
    "                'answer_llm':answer_llm.content\n",
    "                })\n",
    "\n",
    "print(response.content)"
   ]
  },
  {
   "cell_type": "code",
   "execution_count": 63,
   "id": "771d5156",
   "metadata": {},
   "outputs": [
    {
     "data": {
      "text/plain": [
       "str"
      ]
     },
     "execution_count": 63,
     "metadata": {},
     "output_type": "execute_result"
    }
   ],
   "source": [
    "type(response.content)"
   ]
  },
  {
   "cell_type": "code",
   "execution_count": 64,
   "id": "3712451f",
   "metadata": {},
   "outputs": [],
   "source": [
    "df_sample = df_question.sample(n=50, random_state=1)"
   ]
  },
  {
   "cell_type": "code",
   "execution_count": 65,
   "id": "10442527",
   "metadata": {},
   "outputs": [],
   "source": [
    "sample = df_sample.to_dict(orient='records')"
   ]
  },
  {
   "cell_type": "code",
   "execution_count": null,
   "id": "942a9028",
   "metadata": {},
   "outputs": [],
   "source": [
    "from tqdm.auto import tqdm\n",
    "import json\n",
    "import time \n",
    "\n",
    "evaluations = []\n",
    "for record in tqdm(sample):\n",
    "    question = record['question']\n",
    "    answer_llm = answer_llm =fitness_chain.invoke({'question':question}).content\n",
    "\n",
    "    response =Judge_chain.invoke({\n",
    "                'question':question,\n",
    "                'answer_llm':answer_llm\n",
    "                }).content\n",
    "    print(response)\n",
    "    time.sleep(2)\n",
    "    evaluation = json.loads(response)\n",
    "    evaluations.append((record, answer_llm, evaluation))"
   ]
  },
  {
   "cell_type": "code",
   "execution_count": 70,
   "id": "af6ecf53",
   "metadata": {},
   "outputs": [
    {
     "data": {
      "text/plain": [
       "({'id': 171,\n",
       "  'question': 'What is the primary muscle group activated during the Banded Pull-Up?'},\n",
       " 'The primary muscle groups activated during the Banded Pull-Up are:\\n\\n*   Latissimus Dorsi\\n*   Biceps',\n",
       " {'Relevance': 'PARTLY_RELEVANT',\n",
       "  'Explanation': \"The answer correctly identifies the Latissimus Dorsi and Biceps as activated muscles during banded pull-ups. However, it is incomplete as it doesn't mention other significant muscle groups involved, such as the rhomboids, trapezius, and posterior deltoids.  A more comprehensive answer would include these, making the current response only partially relevant.\"})"
      ]
     },
     "execution_count": 70,
     "metadata": {},
     "output_type": "execute_result"
    }
   ],
   "source": [
    "evaluations[0]"
   ]
  },
  {
   "cell_type": "code",
   "execution_count": 71,
   "id": "bf155efd",
   "metadata": {},
   "outputs": [
    {
     "data": {
      "text/html": [
       "<div>\n",
       "<style scoped>\n",
       "    .dataframe tbody tr th:only-of-type {\n",
       "        vertical-align: middle;\n",
       "    }\n",
       "\n",
       "    .dataframe tbody tr th {\n",
       "        vertical-align: top;\n",
       "    }\n",
       "\n",
       "    .dataframe thead th {\n",
       "        text-align: right;\n",
       "    }\n",
       "</style>\n",
       "<table border=\"1\" class=\"dataframe\">\n",
       "  <thead>\n",
       "    <tr style=\"text-align: right;\">\n",
       "      <th></th>\n",
       "      <th>record</th>\n",
       "      <th>answer</th>\n",
       "      <th>evaluation</th>\n",
       "    </tr>\n",
       "  </thead>\n",
       "  <tbody>\n",
       "    <tr>\n",
       "      <th>0</th>\n",
       "      <td>{'id': 171, 'question': 'What is the primary m...</td>\n",
       "      <td>The primary muscle groups activated during the...</td>\n",
       "      <td>{'Relevance': 'PARTLY_RELEVANT', 'Explanation'...</td>\n",
       "    </tr>\n",
       "    <tr>\n",
       "      <th>1</th>\n",
       "      <td>{'id': 115, 'question': 'Can jumping squats be...</td>\n",
       "      <td>Yes, jumping squats can be performed without a...</td>\n",
       "      <td>{'Relevance': 'PARTLY_RELEVANT', 'Explanation'...</td>\n",
       "    </tr>\n",
       "    <tr>\n",
       "      <th>2</th>\n",
       "      <td>{'id': 53, 'question': 'Can you explain the pr...</td>\n",
       "      <td>Here's how to perform a Dumbbell Lateral Raise...</td>\n",
       "      <td>{'Relevance': 'NON_RELEVANT', 'Explanation': '...</td>\n",
       "    </tr>\n",
       "    <tr>\n",
       "      <th>3</th>\n",
       "      <td>{'id': 198, 'question': 'How do I ensure my ar...</td>\n",
       "      <td>To ensure your arms are fully extended during ...</td>\n",
       "      <td>{'Relevance': 'PARTLY_RELEVANT', 'Explanation'...</td>\n",
       "    </tr>\n",
       "    <tr>\n",
       "      <th>4</th>\n",
       "      <td>{'id': 19, 'question': 'What part of the body ...</td>\n",
       "      <td>Goblet Squats primarily engage the **Lower Bod...</td>\n",
       "      <td>{'Relevance': 'PARTLY_RELEVANT', 'Explanation'...</td>\n",
       "    </tr>\n",
       "  </tbody>\n",
       "</table>\n",
       "</div>"
      ],
      "text/plain": [
       "                                              record  \\\n",
       "0  {'id': 171, 'question': 'What is the primary m...   \n",
       "1  {'id': 115, 'question': 'Can jumping squats be...   \n",
       "2  {'id': 53, 'question': 'Can you explain the pr...   \n",
       "3  {'id': 198, 'question': 'How do I ensure my ar...   \n",
       "4  {'id': 19, 'question': 'What part of the body ...   \n",
       "\n",
       "                                              answer  \\\n",
       "0  The primary muscle groups activated during the...   \n",
       "1  Yes, jumping squats can be performed without a...   \n",
       "2  Here's how to perform a Dumbbell Lateral Raise...   \n",
       "3  To ensure your arms are fully extended during ...   \n",
       "4  Goblet Squats primarily engage the **Lower Bod...   \n",
       "\n",
       "                                          evaluation  \n",
       "0  {'Relevance': 'PARTLY_RELEVANT', 'Explanation'...  \n",
       "1  {'Relevance': 'PARTLY_RELEVANT', 'Explanation'...  \n",
       "2  {'Relevance': 'NON_RELEVANT', 'Explanation': '...  \n",
       "3  {'Relevance': 'PARTLY_RELEVANT', 'Explanation'...  \n",
       "4  {'Relevance': 'PARTLY_RELEVANT', 'Explanation'...  "
      ]
     },
     "execution_count": 71,
     "metadata": {},
     "output_type": "execute_result"
    }
   ],
   "source": [
    "df_eval_50 =pd.DataFrame(evaluations,columns=['record','answer','evaluation'])\n",
    "df_eval_50.head()"
   ]
  },
  {
   "cell_type": "code",
   "execution_count": 72,
   "id": "18852011",
   "metadata": {},
   "outputs": [],
   "source": [
    "df_eval_50['id'] = df_eval_50.record.apply(lambda d: d['id'])\n",
    "df_eval_50['question'] = df_eval_50.record.apply(lambda d: d['question'])\n",
    "\n",
    "df_eval_50['relevance'] = df_eval_50.evaluation.apply(lambda d: d['Relevance'])\n",
    "df_eval_50['explanation'] = df_eval_50.evaluation.apply(lambda d: d['Explanation'])\n",
    "\n",
    "del df_eval_50['record']\n",
    "del df_eval_50['evaluation']"
   ]
  },
  {
   "cell_type": "code",
   "execution_count": 73,
   "id": "23f864b0",
   "metadata": {},
   "outputs": [
    {
     "data": {
      "text/html": [
       "<div>\n",
       "<style scoped>\n",
       "    .dataframe tbody tr th:only-of-type {\n",
       "        vertical-align: middle;\n",
       "    }\n",
       "\n",
       "    .dataframe tbody tr th {\n",
       "        vertical-align: top;\n",
       "    }\n",
       "\n",
       "    .dataframe thead th {\n",
       "        text-align: right;\n",
       "    }\n",
       "</style>\n",
       "<table border=\"1\" class=\"dataframe\">\n",
       "  <thead>\n",
       "    <tr style=\"text-align: right;\">\n",
       "      <th></th>\n",
       "      <th>answer</th>\n",
       "      <th>id</th>\n",
       "      <th>question</th>\n",
       "      <th>relevance</th>\n",
       "      <th>explanation</th>\n",
       "    </tr>\n",
       "  </thead>\n",
       "  <tbody>\n",
       "    <tr>\n",
       "      <th>0</th>\n",
       "      <td>The primary muscle groups activated during the...</td>\n",
       "      <td>171</td>\n",
       "      <td>What is the primary muscle group activated dur...</td>\n",
       "      <td>PARTLY_RELEVANT</td>\n",
       "      <td>The answer correctly identifies the Latissimus...</td>\n",
       "    </tr>\n",
       "    <tr>\n",
       "      <th>1</th>\n",
       "      <td>Yes, jumping squats can be performed without a...</td>\n",
       "      <td>115</td>\n",
       "      <td>Can jumping squats be performed without any eq...</td>\n",
       "      <td>PARTLY_RELEVANT</td>\n",
       "      <td>The answer correctly states that jumping squat...</td>\n",
       "    </tr>\n",
       "    <tr>\n",
       "      <th>2</th>\n",
       "      <td>Here's how to perform a Dumbbell Lateral Raise...</td>\n",
       "      <td>53</td>\n",
       "      <td>Can you explain the proper technique for execu...</td>\n",
       "      <td>NON_RELEVANT</td>\n",
       "      <td>The generated answer provides a highly simplif...</td>\n",
       "    </tr>\n",
       "    <tr>\n",
       "      <th>3</th>\n",
       "      <td>To ensure your arms are fully extended during ...</td>\n",
       "      <td>198</td>\n",
       "      <td>How do I ensure my arms are fully extended dur...</td>\n",
       "      <td>PARTLY_RELEVANT</td>\n",
       "      <td>The answer provides examples of exercises that...</td>\n",
       "    </tr>\n",
       "    <tr>\n",
       "      <th>4</th>\n",
       "      <td>Goblet Squats primarily engage the **Lower Bod...</td>\n",
       "      <td>19</td>\n",
       "      <td>What part of the body is primarily engaged in ...</td>\n",
       "      <td>PARTLY_RELEVANT</td>\n",
       "      <td>The answer correctly identifies that the lower...</td>\n",
       "    </tr>\n",
       "  </tbody>\n",
       "</table>\n",
       "</div>"
      ],
      "text/plain": [
       "                                              answer   id  \\\n",
       "0  The primary muscle groups activated during the...  171   \n",
       "1  Yes, jumping squats can be performed without a...  115   \n",
       "2  Here's how to perform a Dumbbell Lateral Raise...   53   \n",
       "3  To ensure your arms are fully extended during ...  198   \n",
       "4  Goblet Squats primarily engage the **Lower Bod...   19   \n",
       "\n",
       "                                            question        relevance  \\\n",
       "0  What is the primary muscle group activated dur...  PARTLY_RELEVANT   \n",
       "1  Can jumping squats be performed without any eq...  PARTLY_RELEVANT   \n",
       "2  Can you explain the proper technique for execu...     NON_RELEVANT   \n",
       "3  How do I ensure my arms are fully extended dur...  PARTLY_RELEVANT   \n",
       "4  What part of the body is primarily engaged in ...  PARTLY_RELEVANT   \n",
       "\n",
       "                                         explanation  \n",
       "0  The answer correctly identifies the Latissimus...  \n",
       "1  The answer correctly states that jumping squat...  \n",
       "2  The generated answer provides a highly simplif...  \n",
       "3  The answer provides examples of exercises that...  \n",
       "4  The answer correctly identifies that the lower...  "
      ]
     },
     "execution_count": 73,
     "metadata": {},
     "output_type": "execute_result"
    }
   ],
   "source": [
    "df_eval_50.head()"
   ]
  },
  {
   "cell_type": "code",
   "execution_count": null,
   "id": "ee14cbb7",
   "metadata": {},
   "outputs": [
    {
     "data": {
      "text/plain": [
       "relevance\n",
       "PARTLY_RELEVANT    31\n",
       "RELEVANT           12\n",
       "NON_RELEVANT        7\n",
       "Name: count, dtype: int64"
      ]
     },
     "execution_count": 74,
     "metadata": {},
     "output_type": "execute_result"
    }
   ],
   "source": [
    "df_eval_50.relevance.value_counts()"
   ]
  }
 ],
 "metadata": {
  "kernelspec": {
   "display_name": "fit",
   "language": "python",
   "name": "python3"
  },
  "language_info": {
   "codemirror_mode": {
    "name": "ipython",
    "version": 3
   },
   "file_extension": ".py",
   "mimetype": "text/x-python",
   "name": "python",
   "nbconvert_exporter": "python",
   "pygments_lexer": "ipython3",
   "version": "3.12.5"
  }
 },
 "nbformat": 4,
 "nbformat_minor": 5
}
