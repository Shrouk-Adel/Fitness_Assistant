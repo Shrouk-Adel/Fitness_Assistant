{
 "cells": [
  {
   "cell_type": "code",
   "execution_count": null,
   "id": "288663ec",
   "metadata": {},
   "outputs": [],
   "source": [
    "from pydantic import BaseModel,Field\n",
    "from typing import List\n",
    "import os \n",
    "import pandas as pd\n",
    "from dotenv import load_dotenv\n",
    "load_dotenv()\n",
    "\n",
    "GOOGLE_API_KEY =os.getenv('Gemini_key')"
   ]
  },
  {
   "cell_type": "code",
   "execution_count": 2,
   "id": "3a36ac9f",
   "metadata": {},
   "outputs": [],
   "source": [
    "df =pd.read_csv('../Data/data.csv')"
   ]
  },
  {
   "cell_type": "code",
   "execution_count": 3,
   "id": "a90247f8",
   "metadata": {},
   "outputs": [],
   "source": [
    "# drop id column \n",
    "df.drop('id',axis=1,inplace=True)"
   ]
  },
  {
   "cell_type": "code",
   "execution_count": 4,
   "id": "ad554471",
   "metadata": {},
   "outputs": [],
   "source": [
    "df.to_csv('../Data/cleaned_data.csv')"
   ]
  },
  {
   "cell_type": "code",
   "execution_count": 5,
   "id": "3de9829d",
   "metadata": {},
   "outputs": [
    {
     "name": "stdout",
     "output_type": "stream",
     "text": [
      ": 0\n",
      "exercise_name: Push-Ups\n",
      "type_of_activity: Strength\n",
      "type_of_equipment: Bodyweight\n",
      "body_part: Upper Body\n",
      "type: Push\n",
      "muscle_groups_activated: Pectorals, Triceps, Deltoids\n",
      "instructions: Start in a high plank position with your hands under your shoulders. Lower your body until your chest nearly touches the floor. Push back up to the starting position.\n"
     ]
    }
   ],
   "source": [
    "from langchain_community.document_loaders import CSVLoader\n",
    "\n",
    "file_path =r'..\\Data\\cleaned_data.csv'\n",
    "loader =CSVLoader(file_path)\n",
    "docs =loader.load()\n",
    "print(docs[0].page_content)"
   ]
  },
  {
   "cell_type": "code",
   "execution_count": 3,
   "id": "eb230d29",
   "metadata": {},
   "outputs": [],
   "source": [
    "from langchain_google_genai import ChatGoogleGenerativeAI\n",
    "from langchain.prompts import ChatPromptTemplate\n",
    "class Reslut(BaseModel):\n",
    "    questions:List[str] =Field(...,max_items =5,title =\"List of all generatied questions\")\n",
    "\n",
    "llm =ChatGoogleGenerativeAI(\n",
    "    model ='models/gemini-2.0-flash-lite',\n",
    "    temperature=0.5,\n",
    "    google_api_key=GOOGLE_API_KEY \n",
    ")\n",
    "\n",
    "structured_llm =llm.with_structured_output(Reslut)\n",
    "\n",
    "prompt_template ='''\n",
    "    you emulate a user of out fitness assistant application\n",
    "    formulate 5 questions this user might ask based on a provided excersise\n",
    "    the record should contain the asnwer of the questions\n",
    "    the questions should be complate and not too short\n",
    "    use a fewer words as possible form the record\n",
    "    record:{record}\n",
    "    you must follow the pydantic structure for your generated questions\n",
    "    {{\"questions\": [\"question1\", \"question2\", ..., \"question5\"]}}\n",
    "    genrate only questions not questions and answers\n",
    "'''\n",
    "\n",
    "prompt =ChatPromptTemplate.from_template(prompt_template)\n",
    "questions_chain =(\n",
    "    prompt\n",
    "    |llm\n",
    ")"
   ]
  },
  {
   "cell_type": "code",
   "execution_count": 4,
   "id": "4c55ce2d",
   "metadata": {},
   "outputs": [
    {
     "name": "stdout",
     "output_type": "stream",
     "text": [
      "```json\n",
      "{\n",
      "  \"questions\": [\n",
      "    \"How many push-ups should I aim for if I'm a beginner?\",\n",
      "    \"What modifications can I do to make push-ups easier?\",\n",
      "    \"How far apart should my hands be placed during a push-up?\",\n",
      "    \"Can push-ups be incorporated into a full-body workout?\",\n",
      "    \"What are some common mistakes to avoid when doing push-ups?\"\n",
      "  ]\n",
      "}\n",
      "```\n"
     ]
    }
   ],
   "source": [
    "q =questions_chain.invoke({\n",
    "    \"record\":docs[0].page_content\n",
    "}).content\n",
    "print(q)"
   ]
  },
  {
   "cell_type": "code",
   "execution_count": 5,
   "id": "aac96e4f",
   "metadata": {},
   "outputs": [
    {
     "data": {
      "text/plain": [
       "str"
      ]
     },
     "execution_count": 5,
     "metadata": {},
     "output_type": "execute_result"
    }
   ],
   "source": [
    "type(q)"
   ]
  },
  {
   "cell_type": "code",
   "execution_count": 6,
   "id": "8cc98976",
   "metadata": {},
   "outputs": [
    {
     "name": "stdout",
     "output_type": "stream",
     "text": [
      "('{\"questions\": [\"How many push-ups should I aim for if I\\'m a beginner?\", '\n",
      " '\"What modifications can I do to make push-ups easier?\", \"How far apart '\n",
      " 'should my hands be placed during a push-up?\", \"Can push-ups be incorporated '\n",
      " 'into a full-body workout?\", \"What are some common mistakes to avoid when '\n",
      " 'doing push-ups?\"]}')\n"
     ]
    }
   ],
   "source": [
    "from json_repair import repair_json\n",
    "from pprint import pprint\n",
    "pprint(repair_json(q))"
   ]
  },
  {
   "cell_type": "code",
   "execution_count": 7,
   "id": "9eda743c",
   "metadata": {},
   "outputs": [
    {
     "data": {
      "text/plain": [
       "dict"
      ]
     },
     "execution_count": 7,
     "metadata": {},
     "output_type": "execute_result"
    }
   ],
   "source": [
    "import json\n",
    "str_q =repair_json(q)\n",
    "json_q =json.loads(str_q)\n",
    "type(json_q)"
   ]
  },
  {
   "cell_type": "code",
   "execution_count": 8,
   "id": "0d59e400",
   "metadata": {},
   "outputs": [
    {
     "data": {
      "text/plain": [
       "{'questions': [\"How many push-ups should I aim for if I'm a beginner?\",\n",
       "  'What modifications can I do to make push-ups easier?',\n",
       "  'How far apart should my hands be placed during a push-up?',\n",
       "  'Can push-ups be incorporated into a full-body workout?',\n",
       "  'What are some common mistakes to avoid when doing push-ups?']}"
      ]
     },
     "execution_count": 8,
     "metadata": {},
     "output_type": "execute_result"
    }
   ],
   "source": [
    "json_q"
   ]
  },
  {
   "cell_type": "code",
   "execution_count": 13,
   "id": "5d914b75",
   "metadata": {},
   "outputs": [
    {
     "data": {
      "text/plain": [
       "[(0, \"How many push-ups should I aim for if I'm a beginner?\"),\n",
       " (0, 'What modifications can I do to make push-ups easier?'),\n",
       " (0, 'How far apart should my hands be placed during a push-up?'),\n",
       " (0, 'Can push-ups be incorporated into a full-body workout?'),\n",
       " (0, 'What are some common mistakes to avoid when doing push-ups?')]"
      ]
     },
     "execution_count": 13,
     "metadata": {},
     "output_type": "execute_result"
    }
   ],
   "source": [
    "try_out=[]\n",
    "for key,value in json_q.items():\n",
    "    for i in value:\n",
    "        try_out.append((0,i))\n",
    "\n",
    "try_out"
   ]
  },
  {
   "cell_type": "code",
   "execution_count": 14,
   "id": "42de22cb",
   "metadata": {},
   "outputs": [
    {
     "data": {
      "text/html": [
       "<div>\n",
       "<style scoped>\n",
       "    .dataframe tbody tr th:only-of-type {\n",
       "        vertical-align: middle;\n",
       "    }\n",
       "\n",
       "    .dataframe tbody tr th {\n",
       "        vertical-align: top;\n",
       "    }\n",
       "\n",
       "    .dataframe thead th {\n",
       "        text-align: right;\n",
       "    }\n",
       "</style>\n",
       "<table border=\"1\" class=\"dataframe\">\n",
       "  <thead>\n",
       "    <tr style=\"text-align: right;\">\n",
       "      <th></th>\n",
       "      <th>id</th>\n",
       "      <th>question</th>\n",
       "    </tr>\n",
       "  </thead>\n",
       "  <tbody>\n",
       "    <tr>\n",
       "      <th>0</th>\n",
       "      <td>0</td>\n",
       "      <td>How many push-ups should I aim for if I'm a be...</td>\n",
       "    </tr>\n",
       "    <tr>\n",
       "      <th>1</th>\n",
       "      <td>0</td>\n",
       "      <td>What modifications can I do to make push-ups e...</td>\n",
       "    </tr>\n",
       "    <tr>\n",
       "      <th>2</th>\n",
       "      <td>0</td>\n",
       "      <td>How far apart should my hands be placed during...</td>\n",
       "    </tr>\n",
       "    <tr>\n",
       "      <th>3</th>\n",
       "      <td>0</td>\n",
       "      <td>Can push-ups be incorporated into a full-body ...</td>\n",
       "    </tr>\n",
       "    <tr>\n",
       "      <th>4</th>\n",
       "      <td>0</td>\n",
       "      <td>What are some common mistakes to avoid when do...</td>\n",
       "    </tr>\n",
       "  </tbody>\n",
       "</table>\n",
       "</div>"
      ],
      "text/plain": [
       "   id                                           question\n",
       "0   0  How many push-ups should I aim for if I'm a be...\n",
       "1   0  What modifications can I do to make push-ups e...\n",
       "2   0  How far apart should my hands be placed during...\n",
       "3   0  Can push-ups be incorporated into a full-body ...\n",
       "4   0  What are some common mistakes to avoid when do..."
      ]
     },
     "execution_count": 14,
     "metadata": {},
     "output_type": "execute_result"
    }
   ],
   "source": [
    "t =pd.DataFrame(try_out,columns=['id','question'])\n",
    "t.head()"
   ]
  },
  {
   "cell_type": "code",
   "execution_count": null,
   "id": "fa6b1233",
   "metadata": {},
   "outputs": [],
   "source": [
    "import time\n",
    "def generate_questions(docs):\n",
    "    all_questions= []\n",
    "    id =0\n",
    "    for doc in docs:\n",
    "        \n",
    "        qs =questions_chain.invoke({\n",
    "              \"record\":doc.page_content\n",
    "            }).content\n",
    "        \n",
    "        # print(qs)\n",
    "        str_qs =repair_json(qs)\n",
    "        json_qs =json.loads(str_qs)\n",
    "\n",
    "        for key,value in json_qs.items():\n",
    "             for question in value:\n",
    "                 all_questions.append((id,question))\n",
    "        id +=1\n",
    "\n",
    "        time.sleep(3)\n",
    "\n",
    "    return all_questions\n",
    "\n",
    "questions= generate_questions(docs)"
   ]
  },
  {
   "cell_type": "code",
   "execution_count": 15,
   "id": "5c8e11aa",
   "metadata": {},
   "outputs": [
    {
     "data": {
      "text/plain": [
       "'How many sets and reps are generally recommended for Push-Ups to build muscle?'"
      ]
     },
     "execution_count": 15,
     "metadata": {},
     "output_type": "execute_result"
    }
   ],
   "source": [
    "questions[0]"
   ]
  },
  {
   "cell_type": "code",
   "execution_count": null,
   "id": "7a6647c9",
   "metadata": {},
   "outputs": [],
   "source": [
    "df_result =pd.DataFrame(questions ,columns=['id','question'])\n",
    "df_result.to_csv('../Data/ground-truth-retrieval.csv')"
   ]
  }
 ],
 "metadata": {
  "kernelspec": {
   "display_name": "fit",
   "language": "python",
   "name": "python3"
  },
  "language_info": {
   "codemirror_mode": {
    "name": "ipython",
    "version": 3
   },
   "file_extension": ".py",
   "mimetype": "text/x-python",
   "name": "python",
   "nbconvert_exporter": "python",
   "pygments_lexer": "ipython3",
   "version": "3.12.5"
  }
 },
 "nbformat": 4,
 "nbformat_minor": 5
}
